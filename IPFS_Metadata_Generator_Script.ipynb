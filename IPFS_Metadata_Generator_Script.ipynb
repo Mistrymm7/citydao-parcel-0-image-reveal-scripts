{
  "nbformat": 4,
  "nbformat_minor": 0,
  "metadata": {
    "colab": {
      "name": "IPFS Metadata Generator Script.ipynb",
      "provenance": [],
      "collapsed_sections": []
    },
    "kernelspec": {
      "name": "python3",
      "display_name": "Python 3"
    },
    "language_info": {
      "name": "python"
    }
  },
  "cells": [
    {
      "cell_type": "markdown",
      "source": [
        "# IPFS Metadata Generator Script"
      ],
      "metadata": {
        "id": "Wqsot6s875Pu"
      }
    },
    {
      "cell_type": "code",
      "source": [
        "import json\n",
        "\n",
        "with open(\"/content/drive/MyDrive/Geotiff/Launch/plots_v1-IPFS.geojson\") as f:\n",
        "  features = json.load(f)[\"features\"]\n",
        "\n",
        "for i in range(1,len(features)):\n",
        "\n",
        "  id = features[i][\"properties\"][\"PLOT_ID\"]\n",
        "\n",
        "  metadata = {\n",
        "    \"name\": \"CityDAO Parcel-0 #\" + str(id),\n",
        "    \"description\": \"Traits from the pictured plot of land within CityDAO's Parcel Zero was used to generate the metadata for this NFT: ipfs://bafybeieypckzw36w2zolhyttkef6oa2zhuldutljccse66jbakvdxkfyym/\" + str(id)+\".kml. This NFT does not represent any land ownership.  This Parcel 0 NFT represents a license agreement between the Holder and Parcel Zero, LLC (a wholly-owned subsidiary of CityDAO, LLC), which grants the Holder certain use and governance rights over the property. View Parcel 0 License Agreement. : https://ipfs.io/ipfs/QmVorF3YxN6KT4RSqBUHDNM3ti1bSPrdZdQHLaEvQfmNNs \", \n",
        "    \"external_url\": \"http://parcel-0.citydao.io/\",  \n",
        "    \"image\": \"ipfs://bafybeihyqxva6t4lrsrarkjqptksa6jvaerrynd4nouwh66zqszqzgbeni/\"+ str(id) + \".png\", \n",
        "    \"attributes\": [ \n",
        "                  {\n",
        "                    \"display_type\": \"number\", \n",
        "                    \"trait_type\": \"Rock\", \n",
        "                    \"value\": features[i][\"properties\"][\"rock_pct\"],\n",
        "                    \"max_value\" :100 \n",
        "                  },\n",
        "                  {\n",
        "                    \"display_type\": \"number\", \n",
        "                    \"trait_type\": \"Veg\", \n",
        "                    \"value\": features[i][\"properties\"][\"veg_pct\"],\n",
        "                    \"max_value\" :100\n",
        "                  },\n",
        "                  {\n",
        "                    \"display_type\": \"number\", \n",
        "                    \"trait_type\": \"Other\", \n",
        "                    \"value\": features[i][\"properties\"][\"other_pct\"],\n",
        "                    \"max_value\" :100\n",
        "                  },\n",
        "                  {\n",
        "                    \"trait_type\": \"Slope\", \n",
        "                    \"value\": features[i][\"properties\"][\"slope\"]\n",
        "                  },\n",
        "                  {\n",
        "                    \"trait_type\": \"Aspect\", \n",
        "                    \"value\": features[i][\"properties\"][\"aspect\"]\n",
        "                  },\n",
        "                  {\n",
        "                    \"trait_type\": \"District\", \n",
        "                    \"value\": features[i][\"properties\"][\"district\"]\n",
        "                  },\n",
        "                  {\n",
        "                    \"trait_type\": \"Elevation\", \n",
        "                    \"value\": features[i][\"properties\"][\"elevation\"]\n",
        "                  },\n",
        "                  {\n",
        "                    \"trait_type\": \"Feature\", \n",
        "                    \"value\": features[i][\"properties\"][\"feature\"]\n",
        "                  },\n",
        "                  \n",
        "    ], \n",
        "  }\n",
        "\n",
        "  jsonString = json.dumps(metadata) \n",
        "  \n",
        "  #jsonFile = open(\"/content/metadata_test\" + str(i) +\".json\", \"w\") \n",
        "\n",
        "  # Existing NFT Metadataa has no file extension\n",
        "  jsonFile = open(\"/content/metadata/\" + str(id), \"w\")\n",
        "  jsonFile.write(jsonString)\n",
        "  jsonFile.close()"
      ],
      "metadata": {
        "id": "z3R-3vjF78gO"
      },
      "execution_count": null,
      "outputs": []
    }
  ]
}